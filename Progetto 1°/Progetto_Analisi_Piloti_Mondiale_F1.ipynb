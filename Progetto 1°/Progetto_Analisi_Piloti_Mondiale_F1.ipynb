{
  "nbformat": 4,
  "nbformat_minor": 0,
  "metadata": {
    "colab": {
      "provenance": []
    },
    "kernelspec": {
      "name": "python3",
      "display_name": "Python 3"
    },
    "language_info": {
      "name": "python"
    }
  },
  "cells": [
    {
      "cell_type": "markdown",
      "source": [
        "**Il codice nella sua interezza.**"
      ],
      "metadata": {
        "id": "KDFp60kYqmIq"
      }
    },
    {
      "cell_type": "code",
      "execution_count": null,
      "metadata": {
        "id": "zuz2WJ3GjFuU"
      },
      "outputs": [],
      "source": [
        "import csv\n",
        "import string\n",
        "\n",
        "def carrier(target, dataset):\n",
        "    \"\"\"\n",
        "    In quest'oridne, restituisce una lista contenete: punti, prime posizioni e podi.\n",
        "    \"\"\"\n",
        "    dataset.seek(0)\n",
        "    csv_reader = csv.DictReader(dataset)\n",
        "\n",
        "    final_list = []\n",
        "    below_list = []\n",
        "    podium_list = []\n",
        "\n",
        "    for row in csv_reader:\n",
        "        if row[\"Driver\"] == target:\n",
        "            position_list = list(row[\"Position\"])\n",
        "\n",
        "            if \"1\" in position_list or \"2\" in position_list or \"3\" in position_list:\n",
        "                podium_list.append(row[\"Position\"])\n",
        "\n",
        "            else:\n",
        "                below_list.append(row[\"Position\"])\n",
        "\n",
        "    tot_position_list = podium_list + below_list\n",
        "    tot_position_list = list(map(int, tot_position_list))\n",
        "\n",
        "    up_score_list = [10, 8, 6]\n",
        "    down_score_list =  list(range(1, 6))\n",
        "    down_score_list.reverse()\n",
        "    score_list = up_score_list + down_score_list\n",
        "\n",
        "    exemple_position_list = list(range(1, 9))\n",
        "\n",
        "    score_dict = dict(zip(exemple_position_list, score_list))\n",
        "\n",
        "    point_list = []\n",
        "    for position in tot_position_list:\n",
        "        if position in score_dict.keys():\n",
        "            point_list.append(score_dict[position])\n",
        "\n",
        "    final_list.append(sum(point_list))\n",
        "    final_list.append(podium_list.count(\"1\"))\n",
        "    final_list.append(len(podium_list))\n",
        "\n",
        "    return final_list\n",
        "\n",
        "\n",
        "def classific():\n",
        "    \"\"\"\n",
        "    Restituisce un dizionario con i nomi dei piloti e i rispettivi putenggi.\n",
        "    \"\"\"\n",
        "\n",
        "    pilots_list = []\n",
        "\n",
        "    for row in csv_reader:\n",
        "        pilots_list.append(row[\"Driver\"])\n",
        "\n",
        "    pilots_set = set(pilots_list)\n",
        "\n",
        "    classific_dict = {}\n",
        "    for pilot in pilots_set:\n",
        "        classific_dict[pilot] = carrier(pilot, dataset)[0]\n",
        "\n",
        "    return classific_dict\n",
        "\n",
        "\n",
        "def team():\n",
        "    \"\"\"\n",
        "    Restitusice un dizionario contenente la coppia team:punteggio totale\n",
        "    \"\"\"\n",
        "    team_points_dict = {}\n",
        "    for pilot in txt_dict:\n",
        "        if team_dict[pilot] not in team_points_dict:\n",
        "            team_points_dict[team_dict[pilot]] = txt_dict[pilot]\n",
        "\n",
        "        else:\n",
        "            team_points_dict[team_dict[pilot]] = team_points_dict[team_dict[pilot]] + txt_dict[pilot]\n",
        "\n",
        "    return team_points_dict\n",
        "\n",
        "\n",
        "with open(\"formula1_data.csv\") as dataset:\n",
        "\n",
        "    try:\n",
        "        name_str = input(\"Nome del pilota: \").title()\n",
        "        valid = True\n",
        "\n",
        "        for c in name_str:\n",
        "            if c in string.punctuation or c in list(map(str, range(0, 10))):\n",
        "                valid = False\n",
        "                break\n",
        "        assert(valid), \"Il nome del pilota dev'essere composto solamente da lettere\"\n",
        "\n",
        "    except AssertionError as e:\n",
        "        print(e)\n",
        "\n",
        "    else:\n",
        "        print(carrier(name_str, dataset))\n",
        "\n",
        "\n",
        "        dataset.seek(0)\n",
        "        csv_reader = csv.DictReader(dataset)\n",
        "\n",
        "        print(classific())\n",
        "\n",
        "        with open(\"Drivers Standings 2008 Formula 1.txt\", \"w\", encoding=\"utf-8\") as file:\n",
        "            dataset.seek(0)\n",
        "\n",
        "            for pilot, points in classific().items():\n",
        "                file.write(f'{pilot}: {points}\\n')\n",
        "\n",
        "        with open(\"Drivers Standings 2008 Formula 1.txt\", \"r\", encoding=\"utf-8\") as file:\n",
        "            txt_dict = {}\n",
        "\n",
        "            for line in file.readlines():\n",
        "                clean_line = line.strip()\n",
        "                txt_dict[clean_line.split(\": \")[0]] = int(clean_line.split(\": \")[1])\n",
        "\n",
        "            del txt_dict[\"Driver\"]\n",
        "\n",
        "            dataset.seek(0)\n",
        "            csv_reader = csv.DictReader(dataset)\n",
        "            team_dict = {}\n",
        "            for row in csv_reader:\n",
        "                team_dict[row[\"Driver\"]] = row[\"Team\"]\n",
        "\n",
        "            print(team())"
      ]
    },
    {
      "cell_type": "markdown",
      "source": [
        "**Il codice frammentato con spiegazione.**"
      ],
      "metadata": {
        "id": "19A1zVizqueY"
      }
    },
    {
      "cell_type": "markdown",
      "source": [
        "La funzione successiva (carrier) prende come argomenti il nome del pilota e il dataset. Crea due liste, una per il podio e l'altra per le restanti posizioni (\"Position\"). La prima lista (podium_list) viene usata per calcolare quante volte il pilota si è aggiudicato la prima posizione e il podio, la seconda lista (below_list) verrà unita alla prima per ottenere le posizioni totali del pilota e verrà usata assieme al dizionario (score_dict) per calcolare il totale dei punti del pilota."
      ],
      "metadata": {
        "id": "0RLo4hdYjWjH"
      }
    },
    {
      "cell_type": "code",
      "source": [
        "def carrier(target, dataset):\n",
        "    \"\"\"\n",
        "    In quest'oridne, restituisce una lista contenete: punti, prime posizioni e podi.\n",
        "    \"\"\"\n",
        "    dataset.seek(0)\n",
        "    csv_reader = csv.DictReader(dataset)\n",
        "\n",
        "    final_list = []\n",
        "    below_list = []\n",
        "    podium_list = []\n",
        "\n",
        "    for row in csv_reader:\n",
        "        if row[\"Driver\"] == target:\n",
        "            position_list = list(row[\"Position\"])\n",
        "\n",
        "            if \"1\" in position_list or \"2\" in position_list or \"3\" in position_list:\n",
        "                podium_list.append(row[\"Position\"])\n",
        "\n",
        "            else:\n",
        "                below_list.append(row[\"Position\"])\n",
        "\n",
        "    tot_position_list = podium_list + below_list\n",
        "    tot_position_list = list(map(int, tot_position_list))\n",
        "\n",
        "    up_score_list = [10, 8, 6]\n",
        "    down_score_list =  list(range(1, 6))\n",
        "    down_score_list.reverse()\n",
        "    score_list = up_score_list + down_score_list\n",
        "\n",
        "    exemple_position_list = list(range(1, 9))\n",
        "\n",
        "    score_dict = dict(zip(exemple_position_list, score_list))\n",
        "\n",
        "    point_list = []\n",
        "    for position in tot_position_list:\n",
        "        if position in score_dict.keys():\n",
        "            point_list.append(score_dict[position])\n",
        "\n",
        "    final_list.append(sum(point_list))\n",
        "    final_list.append(podium_list.count(\"1\"))\n",
        "    final_list.append(len(podium_list))\n",
        "\n",
        "    return final_list"
      ],
      "metadata": {
        "id": "QW4faoVKja7g"
      },
      "execution_count": null,
      "outputs": []
    },
    {
      "cell_type": "markdown",
      "source": [
        "La funzione successiva (classific) costruisce una lista dei piloti che verrà trasformata in set (pilots_set) per eliminare i doppioni. In ultimo costrusice un dizionario che avrà come chiave il nome del pilota e come valore il risultato della funzione carrier(), quindi il totale dei punti di quel pilota."
      ],
      "metadata": {
        "id": "crg7SkeLk-SK"
      }
    },
    {
      "cell_type": "code",
      "source": [
        "def classific():\n",
        "    \"\"\"\n",
        "    Restituisce un dizionario con i nomi dei piloti e i rispettivi putenggi.\n",
        "    \"\"\"\n",
        "\n",
        "    pilots_list = []\n",
        "\n",
        "    for row in csv_reader:\n",
        "        pilots_list.append(row[\"Driver\"])\n",
        "\n",
        "    pilots_set = set(pilots_list)\n",
        "\n",
        "    classific_dict = {}\n",
        "    for pilot in pilots_set:\n",
        "        classific_dict[pilot] = carrier(pilot, dataset)[0]\n",
        "\n",
        "    return classific_dict"
      ],
      "metadata": {
        "id": "Ykg0XuMnlC7j"
      },
      "execution_count": null,
      "outputs": []
    },
    {
      "cell_type": "markdown",
      "source": [
        "La funzione successiva (team) restituisce un dizionario che viene costruito utilizzando come \"aggancio\" tra il dizionario dei piloti e il dizionario dei team, il nome del pilota (chiave per entrambi i dizionari)"
      ],
      "metadata": {
        "id": "FKk8cuzZl6-v"
      }
    },
    {
      "cell_type": "code",
      "source": [
        "def team():\n",
        "    \"\"\"\n",
        "    Restitusice un dizionario contenente la coppia team:punteggio totale\n",
        "    \"\"\"\n",
        "    team_points_dict = {}\n",
        "    for pilot in txt_dict:\n",
        "        if team_dict[pilot] not in team_points_dict:\n",
        "            team_points_dict[team_dict[pilot]] = txt_dict[pilot]\n",
        "\n",
        "        else:\n",
        "            team_points_dict[team_dict[pilot]] = team_points_dict[team_dict[pilot]] + txt_dict[pilot]\n",
        "\n",
        "    return team_points_dict"
      ],
      "metadata": {
        "id": "PtkY13uYl8hT"
      },
      "execution_count": null,
      "outputs": []
    },
    {
      "cell_type": "markdown",
      "source": [
        "La frazione di codice sottostante, dopo aver aperto il file csv e preso in input il nome del pilota, verifica se l'input inserito sia valido, in caso contrario restituisce un errore."
      ],
      "metadata": {
        "id": "Fl8NHkqfnEy9"
      }
    },
    {
      "cell_type": "code",
      "source": [
        "with open(\"formula1_data.csv\") as dataset:\n",
        "\n",
        "    try:\n",
        "        name_str = input(\"Nome del pilota: \").title()\n",
        "        valid = True\n",
        "\n",
        "        for c in name_str:\n",
        "            if c in string.punctuation or c in list(map(str, range(0, 10))):\n",
        "                valid = False\n",
        "                break\n",
        "        assert(valid), \"Il nome del pilota dev'essere composto solamente da lettere\"\n",
        "\n",
        "    except AssertionError as e:\n",
        "        print(e)"
      ],
      "metadata": {
        "id": "R9aJ0EVvnFkK"
      },
      "execution_count": null,
      "outputs": []
    },
    {
      "cell_type": "markdown",
      "source": [
        "La frazione di codice sottostante, viene eseguita in caso la presenza di errore precedente ritorni \"False\" e chiama la funzione carrier() per restituire la lista del pilota desiderato, riavvolge il file che verrà riletto con il puntatore all'inizio del file stesso, in fine chiama la funzione classific() e stampa il dizionario con la classifica per tutti i piloti."
      ],
      "metadata": {
        "id": "tg8sktetnwUZ"
      }
    },
    {
      "cell_type": "code",
      "source": [
        "else:\n",
        "        print(carrier(name_str, dataset))\n",
        "\n",
        "\n",
        "        dataset.seek(0)\n",
        "        csv_reader = csv.DictReader(dataset)\n",
        "\n",
        "        print(classific())"
      ],
      "metadata": {
        "id": "uZ9U_1HInxEZ"
      },
      "execution_count": null,
      "outputs": []
    },
    {
      "cell_type": "markdown",
      "source": [
        "Successivamente, il risutlato di classific() viene salvato sul file di testo che viene chiuso."
      ],
      "metadata": {
        "id": "_ff8GLjzpKFP"
      }
    },
    {
      "cell_type": "code",
      "source": [
        "with open(\"Drivers Standings 2008 Formula 1.txt\", \"w\", encoding=\"utf-8\") as file:\n",
        "            dataset.seek(0)\n",
        "\n",
        "            for pilot, points in classific().items():\n",
        "                file.write(f'{pilot}: {points}\\n')"
      ],
      "metadata": {
        "id": "wVKrntPNpKlP"
      },
      "execution_count": null,
      "outputs": []
    },
    {
      "cell_type": "markdown",
      "source": [
        "Il frammento di codice sottostante apre il file di testo e dopo aver pulito le stringhe per linea dal simbolo \"accapo\", ricostuisce il dizionario (txt_dict) con i piloti e il rispettivo punteggio. Il dizionario (team_dict) viene costruito avendo come chiave il nome del pilota e come valore il nome \"Team\". Infine chiamata la funzione team() che farà affidamento sui dizionari citati."
      ],
      "metadata": {
        "id": "34QTEI_ppZnm"
      }
    },
    {
      "cell_type": "code",
      "source": [
        "\n",
        "        with open(\"Drivers Standings 2008 Formula 1.txt\", \"r\", encoding=\"utf-8\") as file:\n",
        "            txt_dict = {}\n",
        "\n",
        "            for line in file.readlines():\n",
        "                clean_line = line.strip()\n",
        "                txt_dict[clean_line.split(\": \")[0]] = int(clean_line.split(\": \")[1])\n",
        "\n",
        "            del txt_dict[\"Driver\"]\n",
        "\n",
        "            dataset.seek(0)\n",
        "            csv_reader = csv.DictReader(dataset)\n",
        "            team_dict = {}\n",
        "            for row in csv_reader:\n",
        "                team_dict[row[\"Driver\"]] = row[\"Team\"]\n",
        "\n",
        "            print(team())"
      ],
      "metadata": {
        "id": "uF5escfvpZ5f"
      },
      "execution_count": null,
      "outputs": []
    }
  ]
}